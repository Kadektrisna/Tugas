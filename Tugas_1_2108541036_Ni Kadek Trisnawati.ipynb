{
 "cells": [
  {
   "cell_type": "markdown",
   "id": "2a21a264",
   "metadata": {},
   "source": [
    "# 5.1 Print"
   ]
  },
  {
   "cell_type": "code",
   "execution_count": 1,
   "id": "72a7c983",
   "metadata": {},
   "outputs": [
    {
     "name": "stdout",
     "output_type": "stream",
     "text": [
      "Ini Kelas Algoritma!\n"
     ]
    }
   ],
   "source": [
    "print('Ini Kelas Algoritma!')"
   ]
  },
  {
   "cell_type": "code",
   "execution_count": 2,
   "id": "df4147b5",
   "metadata": {},
   "outputs": [
    {
     "name": "stdout",
     "output_type": "stream",
     "text": [
      "Ini Kelas Algoritma\n"
     ]
    }
   ],
   "source": [
    "print(\"Ini Kelas Algoritma\")"
   ]
  },
  {
   "cell_type": "code",
   "execution_count": 3,
   "id": "ab1e7ee2",
   "metadata": {},
   "outputs": [
    {
     "name": "stdout",
     "output_type": "stream",
     "text": [
      "I don't understand what are you saying\n"
     ]
    }
   ],
   "source": [
    "print(\"I don't understand what are you saying\")"
   ]
  },
  {
   "cell_type": "code",
   "execution_count": 4,
   "id": "912c1a7e",
   "metadata": {},
   "outputs": [
    {
     "name": "stdout",
     "output_type": "stream",
     "text": [
      "He is such a \"GENIUS\"\n"
     ]
    }
   ],
   "source": [
    "print('He is such a \"GENIUS\"')"
   ]
  },
  {
   "cell_type": "code",
   "execution_count": 5,
   "id": "52f567de",
   "metadata": {},
   "outputs": [
    {
     "name": "stdout",
     "output_type": "stream",
     "text": [
      "Universitas Udayana\n"
     ]
    }
   ],
   "source": [
    "print(\"Universitas Udayana\")"
   ]
  },
  {
   "cell_type": "code",
   "execution_count": 6,
   "id": "772da8de",
   "metadata": {},
   "outputs": [
    {
     "name": "stdout",
     "output_type": "stream",
     "text": [
      "Matematika 2021\n"
     ]
    }
   ],
   "source": [
    "print(\"Matematika 2021\")"
   ]
  },
  {
   "cell_type": "code",
   "execution_count": 7,
   "id": "5fa52e6f",
   "metadata": {},
   "outputs": [
    {
     "name": "stdout",
     "output_type": "stream",
     "text": [
      "Trisna_2108541036\n"
     ]
    }
   ],
   "source": [
    "print('Trisna_2108541036')"
   ]
  },
  {
   "cell_type": "code",
   "execution_count": 8,
   "id": "a2c77375",
   "metadata": {},
   "outputs": [
    {
     "name": "stdout",
     "output_type": "stream",
     "text": [
      "42\n",
      "100000\n",
      "4200000\n"
     ]
    }
   ],
   "source": [
    "mahasiswa = 42\n",
    "uang_di_dompet = 100000\n",
    "print(mahasiswa)\n",
    "print(uang_di_dompet)\n",
    "print(mahasiswa*uang_di_dompet)"
   ]
  },
  {
   "cell_type": "code",
   "execution_count": 9,
   "id": "7f9de49b",
   "metadata": {},
   "outputs": [
    {
     "name": "stdout",
     "output_type": "stream",
     "text": [
      "21\n",
      "150000\n",
      "3150000\n"
     ]
    }
   ],
   "source": [
    "mahasiswi = 21\n",
    "uang_di_kantong = 150000\n",
    "print(mahasiswi)\n",
    "print(uang_di_kantong)\n",
    "print(mahasiswi*uang_di_kantong)"
   ]
  },
  {
   "cell_type": "code",
   "execution_count": 10,
   "id": "2bfa83be",
   "metadata": {},
   "outputs": [
    {
     "name": "stdout",
     "output_type": "stream",
     "text": [
      "Kadek Trisna\n"
     ]
    }
   ],
   "source": [
    "nama_depan = 'Kadek '\n",
    "nama_belakang = 'Trisna'\n",
    "print(nama_depan + nama_belakang)"
   ]
  },
  {
   "cell_type": "code",
   "execution_count": 11,
   "id": "60a69606",
   "metadata": {},
   "outputs": [
    {
     "name": "stdout",
     "output_type": "stream",
     "text": [
      "Ni Kadek Trisnawati \n"
     ]
    }
   ],
   "source": [
    "nama_depan = 'Ni '\n",
    "nama_tengah = 'Kadek '\n",
    "nama_belakang = \"Trisnawati \"\n",
    "print(nama_depan + nama_tengah + nama_belakang)"
   ]
  },
  {
   "cell_type": "code",
   "execution_count": 13,
   "id": "254334b5",
   "metadata": {},
   "outputs": [
    {
     "name": "stdout",
     "output_type": "stream",
     "text": [
      "Matematika 2021\n"
     ]
    }
   ],
   "source": [
    "prodi = \"Matematika \"\n",
    "angkatan = '2021'\n",
    "print(prodi + angkatan)"
   ]
  },
  {
   "cell_type": "markdown",
   "id": "eac45254",
   "metadata": {},
   "source": [
    "# 5.2 Input"
   ]
  },
  {
   "cell_type": "code",
   "execution_count": 14,
   "id": "dff0c398",
   "metadata": {},
   "outputs": [
    {
     "name": "stdout",
     "output_type": "stream",
     "text": [
      "Siapakah nama anda? Trisna\n",
      "Apakah kegiatan anda sekarang, Trisna? belajar\n",
      "Semangat belajarnya yah, Trisna! \n"
     ]
    }
   ],
   "source": [
    "nama = input(\"Siapakah nama anda? \")\n",
    "kegiatan = input('Apakah kegiatan anda sekarang, ' + nama + \"? \")\n",
    "print(\"Semangat \"+ kegiatan +\"nya yah, \" + nama + \"! \")"
   ]
  },
  {
   "cell_type": "markdown",
   "id": "d66a817c",
   "metadata": {},
   "source": [
    "# 5.3 Tipe Data pada Python"
   ]
  },
  {
   "cell_type": "code",
   "execution_count": 15,
   "id": "89568f45",
   "metadata": {},
   "outputs": [
    {
     "name": "stdout",
     "output_type": "stream",
     "text": [
      "Berapakah jumlah uang di dompet anda? 5000\n",
      "Berapakah jumlah uang anda di bank? 3000\n",
      "Total uang anda adalah Rp 50003000\n"
     ]
    }
   ],
   "source": [
    "uang_di_dompet = input(\"Berapakah jumlah uang di dompet anda? \")\n",
    "uang_di_bank = input(\"Berapakah jumlah uang anda di bank? \")\n",
    "print(\"Total uang anda adalah Rp \" + uang_di_dompet + uang_di_bank)"
   ]
  },
  {
   "cell_type": "code",
   "execution_count": 16,
   "id": "626f3bd6",
   "metadata": {},
   "outputs": [
    {
     "name": "stdout",
     "output_type": "stream",
     "text": [
      "Berapakah jumlah uang di dompet anda? 5000\n",
      "Berapakah jumlah uang anda di Bank? 3000\n",
      "Total uang anda adalah Rp 8000\n"
     ]
    }
   ],
   "source": [
    "uang_di_dompet = input(\"Berapakah jumlah uang di dompet anda? \")\n",
    "uang_di_bank = input(\"Berapakah jumlah uang anda di Bank? \")\n",
    "total_uang = int(uang_di_dompet) + int(uang_di_bank)\n",
    "print(\"Total uang anda adalah Rp \"+ str(total_uang))"
   ]
  },
  {
   "cell_type": "code",
   "execution_count": 17,
   "id": "b193e2a9",
   "metadata": {},
   "outputs": [
    {
     "data": {
      "text/plain": [
       "str"
      ]
     },
     "execution_count": 17,
     "metadata": {},
     "output_type": "execute_result"
    }
   ],
   "source": [
    "type(uang_di_dompet)"
   ]
  },
  {
   "cell_type": "code",
   "execution_count": 18,
   "id": "7d7fe61e",
   "metadata": {},
   "outputs": [
    {
     "data": {
      "text/plain": [
       "str"
      ]
     },
     "execution_count": 18,
     "metadata": {},
     "output_type": "execute_result"
    }
   ],
   "source": [
    "type(uang_di_bank)"
   ]
  },
  {
   "cell_type": "code",
   "execution_count": 19,
   "id": "e67f8abe",
   "metadata": {},
   "outputs": [
    {
     "data": {
      "text/plain": [
       "int"
      ]
     },
     "execution_count": 19,
     "metadata": {},
     "output_type": "execute_result"
    }
   ],
   "source": [
    "type(total_uang)"
   ]
  },
  {
   "cell_type": "code",
   "execution_count": 20,
   "id": "46406e19",
   "metadata": {},
   "outputs": [
    {
     "name": "stdout",
     "output_type": "stream",
     "text": [
      "Masukkan bilangan pertama: 5\n",
      "Masukkan bilangan kedua: 2\n",
      "Jumlah kedua bilangan adalah 7.0\n"
     ]
    }
   ],
   "source": [
    "bilangan_satu = input(\"Masukkan bilangan pertama: \")\n",
    "bilangan_kedua = input(\"Masukkan bilangan kedua: \")\n",
    "jumlah = float(bilangan_satu) + float(bilangan_kedua)\n",
    "print(\"Jumlah kedua bilangan adalah \"+ str(jumlah))"
   ]
  },
  {
   "cell_type": "code",
   "execution_count": 21,
   "id": "71522287",
   "metadata": {},
   "outputs": [
    {
     "name": "stdout",
     "output_type": "stream",
     "text": [
      "Masukkan bilangan pertama: 57\n",
      "Masukkan bilangan kedua: 32\n",
      "Jumlah kedua bilangan adalah 89.0\n"
     ]
    }
   ],
   "source": [
    "bilangan_satu = input(\"Masukkan bilangan pertama: \")\n",
    "bilangan_kedua = input(\"Masukkan bilangan kedua: \")\n",
    "jumlah = float(bilangan_satu) + float(bilangan_kedua)\n",
    "print(\"Jumlah kedua bilangan adalah \"+ str(jumlah))"
   ]
  },
  {
   "cell_type": "markdown",
   "id": "e4589ab3",
   "metadata": {},
   "source": [
    "# 5.4 Formatted String"
   ]
  },
  {
   "cell_type": "code",
   "execution_count": 22,
   "id": "540083d8",
   "metadata": {},
   "outputs": [
    {
     "name": "stdout",
     "output_type": "stream",
     "text": [
      "Trisna adalah seorang mahasiswa di Universitas Udayana.\n"
     ]
    }
   ],
   "source": [
    "nama = \"Trisna\"\n",
    "pekerjaan = 'mahasiswa'\n",
    "institusi = 'Universitas Udayana'\n",
    "print(nama + ' adalah seorang ' + pekerjaan + ' di ' + institusi +'.')"
   ]
  },
  {
   "cell_type": "code",
   "execution_count": 23,
   "id": "4f178861",
   "metadata": {},
   "outputs": [
    {
     "name": "stdout",
     "output_type": "stream",
     "text": [
      "Trisna adalah seorang mahasiswa di Universitas Udayana.\n"
     ]
    }
   ],
   "source": [
    "print(f'{nama} adalah seorang {pekerjaan} di {institusi}.')"
   ]
  },
  {
   "cell_type": "code",
   "execution_count": 24,
   "id": "fc47b1a1",
   "metadata": {},
   "outputs": [
    {
     "name": "stdout",
     "output_type": "stream",
     "text": [
      "Trisna adalah seorang mahasiswa di Universitas Udayana.\n"
     ]
    }
   ],
   "source": [
    "print(f\"{nama} adalah seorang {pekerjaan} di {institusi}.\")"
   ]
  },
  {
   "cell_type": "markdown",
   "id": "38d881f3",
   "metadata": {},
   "source": [
    "# 5.5 Strings Index"
   ]
  },
  {
   "cell_type": "code",
   "execution_count": 25,
   "id": "b1324496",
   "metadata": {},
   "outputs": [],
   "source": [
    "kelas = 'Ini Kelas Algoritma'"
   ]
  },
  {
   "cell_type": "code",
   "execution_count": 26,
   "id": "d2322376",
   "metadata": {},
   "outputs": [
    {
     "name": "stdout",
     "output_type": "stream",
     "text": [
      "Ini\n"
     ]
    }
   ],
   "source": [
    "print(kelas[0:3])"
   ]
  },
  {
   "cell_type": "code",
   "execution_count": 27,
   "id": "5a1a4c85",
   "metadata": {},
   "outputs": [
    {
     "name": "stdout",
     "output_type": "stream",
     "text": [
      "Ini Kelas Algoritm\n"
     ]
    }
   ],
   "source": [
    "print(kelas[0:-1])"
   ]
  },
  {
   "cell_type": "code",
   "execution_count": 28,
   "id": "3fdcb54d",
   "metadata": {},
   "outputs": [
    {
     "name": "stdout",
     "output_type": "stream",
     "text": [
      "elas Algoritm\n"
     ]
    }
   ],
   "source": [
    "print(kelas[5:-1])"
   ]
  },
  {
   "cell_type": "code",
   "execution_count": 29,
   "id": "779b4d99",
   "metadata": {},
   "outputs": [
    {
     "name": "stdout",
     "output_type": "stream",
     "text": [
      "ieslrm\n"
     ]
    }
   ],
   "source": [
    "print(kelas[2:-1:3])"
   ]
  },
  {
   "cell_type": "code",
   "execution_count": 30,
   "id": "461a002b",
   "metadata": {},
   "outputs": [
    {
     "name": "stdout",
     "output_type": "stream",
     "text": [
      "Ini Kelas Algori\n"
     ]
    }
   ],
   "source": [
    "print(kelas[:-3])"
   ]
  },
  {
   "cell_type": "code",
   "execution_count": 31,
   "id": "8b8fe2a3",
   "metadata": {},
   "outputs": [
    {
     "name": "stdout",
     "output_type": "stream",
     "text": [
      "ni Kelas Algoritma\n"
     ]
    }
   ],
   "source": [
    "print(kelas[1:])"
   ]
  },
  {
   "cell_type": "code",
   "execution_count": 32,
   "id": "471ac4ea",
   "metadata": {},
   "outputs": [
    {
     "name": "stdout",
     "output_type": "stream",
     "text": [
      "Ini Kelas Algoritma\n"
     ]
    }
   ],
   "source": [
    "print(kelas[:])"
   ]
  },
  {
   "cell_type": "code",
   "execution_count": 33,
   "id": "c57ebdb6",
   "metadata": {},
   "outputs": [],
   "source": [
    "nama = 'Kadek Trisna'"
   ]
  },
  {
   "cell_type": "code",
   "execution_count": 34,
   "id": "d18abffb",
   "metadata": {},
   "outputs": [
    {
     "name": "stdout",
     "output_type": "stream",
     "text": [
      "Ka\n"
     ]
    }
   ],
   "source": [
    "print(nama[0:2])"
   ]
  },
  {
   "cell_type": "code",
   "execution_count": 35,
   "id": "8270f896",
   "metadata": {},
   "outputs": [
    {
     "name": "stdout",
     "output_type": "stream",
     "text": [
      "Kadek\n"
     ]
    }
   ],
   "source": [
    "print(nama[0:5])"
   ]
  },
  {
   "cell_type": "code",
   "execution_count": 36,
   "id": "27a398a1",
   "metadata": {},
   "outputs": [
    {
     "name": "stdout",
     "output_type": "stream",
     "text": [
      "Kadek Tris\n"
     ]
    }
   ],
   "source": [
    "print(nama[:-2])"
   ]
  },
  {
   "cell_type": "code",
   "execution_count": 37,
   "id": "35ab3453",
   "metadata": {},
   "outputs": [
    {
     "name": "stdout",
     "output_type": "stream",
     "text": [
      "Kadek Trisna\n"
     ]
    }
   ],
   "source": [
    "print(nama[:])"
   ]
  },
  {
   "cell_type": "markdown",
   "id": "f120f9d7",
   "metadata": {},
   "source": [
    "# 5.6 Strings Methods"
   ]
  },
  {
   "cell_type": "code",
   "execution_count": 1,
   "id": "59240cc3",
   "metadata": {},
   "outputs": [],
   "source": [
    "judul = 'Bali Surga Dunia'"
   ]
  },
  {
   "cell_type": "code",
   "execution_count": 2,
   "id": "8a5f0a11",
   "metadata": {},
   "outputs": [
    {
     "name": "stdout",
     "output_type": "stream",
     "text": [
      "16\n"
     ]
    }
   ],
   "source": [
    "print(len(judul))"
   ]
  },
  {
   "cell_type": "code",
   "execution_count": 3,
   "id": "e3a3b74b",
   "metadata": {},
   "outputs": [
    {
     "data": {
      "text/plain": [
       "'BALI SURGA DUNIA'"
      ]
     },
     "execution_count": 3,
     "metadata": {},
     "output_type": "execute_result"
    }
   ],
   "source": [
    "judul.upper()"
   ]
  },
  {
   "cell_type": "code",
   "execution_count": 4,
   "id": "1bf9dbfd",
   "metadata": {},
   "outputs": [
    {
     "data": {
      "text/plain": [
       "'bali surga dunia'"
      ]
     },
     "execution_count": 4,
     "metadata": {},
     "output_type": "execute_result"
    }
   ],
   "source": [
    "judul.lower()"
   ]
  },
  {
   "cell_type": "code",
   "execution_count": 5,
   "id": "7d62313a",
   "metadata": {},
   "outputs": [
    {
     "data": {
      "text/plain": [
       "5"
      ]
     },
     "execution_count": 5,
     "metadata": {},
     "output_type": "execute_result"
    }
   ],
   "source": [
    "judul.find('Surga')"
   ]
  },
  {
   "cell_type": "code",
   "execution_count": 6,
   "id": "169ac452",
   "metadata": {},
   "outputs": [
    {
     "data": {
      "text/plain": [
       "-1"
      ]
     },
     "execution_count": 6,
     "metadata": {},
     "output_type": "execute_result"
    }
   ],
   "source": [
    "judul.find('bali')"
   ]
  },
  {
   "cell_type": "code",
   "execution_count": 7,
   "id": "b73b505c",
   "metadata": {},
   "outputs": [
    {
     "data": {
      "text/plain": [
       "'Indonesia Surga Dunia'"
      ]
     },
     "execution_count": 7,
     "metadata": {},
     "output_type": "execute_result"
    }
   ],
   "source": [
    "judul.replace('Bali', 'Indonesia')"
   ]
  },
  {
   "cell_type": "code",
   "execution_count": 8,
   "id": "fb17f18d",
   "metadata": {},
   "outputs": [
    {
     "data": {
      "text/plain": [
       "'Bali Surga Dunia'"
      ]
     },
     "execution_count": 8,
     "metadata": {},
     "output_type": "execute_result"
    }
   ],
   "source": [
    "judul.replace('bali', 'Indonesia')"
   ]
  },
  {
   "cell_type": "code",
   "execution_count": 9,
   "id": "3fcbe48e",
   "metadata": {},
   "outputs": [
    {
     "name": "stdout",
     "output_type": "stream",
     "text": [
      "True\n"
     ]
    }
   ],
   "source": [
    "print('Bali' in judul)"
   ]
  },
  {
   "cell_type": "code",
   "execution_count": 10,
   "id": "750273b8",
   "metadata": {},
   "outputs": [
    {
     "name": "stdout",
     "output_type": "stream",
     "text": [
      "False\n"
     ]
    }
   ],
   "source": [
    "print('bali' in judul)"
   ]
  },
  {
   "cell_type": "markdown",
   "id": "7b956123",
   "metadata": {},
   "source": [
    "# 5.7 Operasi Matematika di Python"
   ]
  },
  {
   "cell_type": "code",
   "execution_count": 11,
   "id": "0e75329a",
   "metadata": {},
   "outputs": [
    {
     "name": "stdout",
     "output_type": "stream",
     "text": [
      "7\n"
     ]
    }
   ],
   "source": [
    "print(5+2)"
   ]
  },
  {
   "cell_type": "code",
   "execution_count": 12,
   "id": "6b147104",
   "metadata": {},
   "outputs": [
    {
     "name": "stdout",
     "output_type": "stream",
     "text": [
      "3\n"
     ]
    }
   ],
   "source": [
    "print(5-2)"
   ]
  },
  {
   "cell_type": "code",
   "execution_count": 13,
   "id": "2d654949",
   "metadata": {},
   "outputs": [
    {
     "name": "stdout",
     "output_type": "stream",
     "text": [
      "18\n"
     ]
    }
   ],
   "source": [
    "print(2*9)"
   ]
  },
  {
   "cell_type": "code",
   "execution_count": 14,
   "id": "e560baff",
   "metadata": {},
   "outputs": [
    {
     "name": "stdout",
     "output_type": "stream",
     "text": [
      "1.8\n"
     ]
    }
   ],
   "source": [
    "print(9/5)"
   ]
  },
  {
   "cell_type": "code",
   "execution_count": 15,
   "id": "c791b5f3",
   "metadata": {},
   "outputs": [
    {
     "name": "stdout",
     "output_type": "stream",
     "text": [
      "1\n"
     ]
    }
   ],
   "source": [
    "print(9//5)"
   ]
  },
  {
   "cell_type": "code",
   "execution_count": 16,
   "id": "296c0ba2",
   "metadata": {},
   "outputs": [
    {
     "name": "stdout",
     "output_type": "stream",
     "text": [
      "4\n"
     ]
    }
   ],
   "source": [
    "print(9%5)"
   ]
  },
  {
   "cell_type": "code",
   "execution_count": 17,
   "id": "c8412a7f",
   "metadata": {},
   "outputs": [
    {
     "name": "stdout",
     "output_type": "stream",
     "text": [
      "10077696\n"
     ]
    }
   ],
   "source": [
    "print(6**9)"
   ]
  },
  {
   "cell_type": "code",
   "execution_count": 18,
   "id": "d49ee2ec",
   "metadata": {},
   "outputs": [
    {
     "name": "stdout",
     "output_type": "stream",
     "text": [
      "30\n"
     ]
    }
   ],
   "source": [
    "x=25\n",
    "x+=5\n",
    "print(x)"
   ]
  },
  {
   "cell_type": "code",
   "execution_count": 19,
   "id": "4e1e577e",
   "metadata": {},
   "outputs": [
    {
     "name": "stdout",
     "output_type": "stream",
     "text": [
      "15\n"
     ]
    }
   ],
   "source": [
    "x-=15\n",
    "print(x)"
   ]
  },
  {
   "cell_type": "code",
   "execution_count": 20,
   "id": "487d9697",
   "metadata": {},
   "outputs": [
    {
     "name": "stdout",
     "output_type": "stream",
     "text": [
      "150\n"
     ]
    }
   ],
   "source": [
    "x*=10\n",
    "print(x)"
   ]
  },
  {
   "cell_type": "markdown",
   "id": "ac725691",
   "metadata": {},
   "source": [
    "# 5.8 Operator Perbandingan di Python"
   ]
  },
  {
   "cell_type": "code",
   "execution_count": 23,
   "id": "8e343c6a",
   "metadata": {},
   "outputs": [
    {
     "name": "stdout",
     "output_type": "stream",
     "text": [
      "True\n",
      "True\n",
      "True\n",
      "True\n",
      "True\n",
      "True\n"
     ]
    }
   ],
   "source": [
    "x = 9>5\n",
    "print(x)\n",
    "x = 7<12\n",
    "print(x)\n",
    "x = 6 >= 3\n",
    "print(x)\n",
    "x = 5 <= 8\n",
    "print(x)\n",
    "x = 11 == 11\n",
    "print(x)\n",
    "x = 3 != 4\n",
    "print(x)"
   ]
  },
  {
   "cell_type": "code",
   "execution_count": 22,
   "id": "a2d0738e",
   "metadata": {},
   "outputs": [
    {
     "name": "stdout",
     "output_type": "stream",
     "text": [
      "False\n",
      "False\n",
      "False\n",
      "False\n",
      "False\n",
      "False\n"
     ]
    }
   ],
   "source": [
    "x = 5>14\n",
    "print(x)\n",
    "x = 9<2\n",
    "print(x)\n",
    "x = 3 >= 5\n",
    "print(x)\n",
    "x = 8 <= 5\n",
    "print(x)\n",
    "x = 10 == 11\n",
    "print(x)\n",
    "x = 5 !=5\n",
    "print(x)"
   ]
  },
  {
   "cell_type": "markdown",
   "id": "a88a781b",
   "metadata": {},
   "source": [
    "# 5.9 Operator Logika di Python"
   ]
  },
  {
   "cell_type": "code",
   "execution_count": 24,
   "id": "728981c0",
   "metadata": {},
   "outputs": [
    {
     "name": "stdout",
     "output_type": "stream",
     "text": [
      "True\n"
     ]
    }
   ],
   "source": [
    "buah_salak = 15\n",
    "buah_pepaya = 20\n",
    "print(buah_salak > 5 and buah_pepaya < 28)"
   ]
  },
  {
   "cell_type": "code",
   "execution_count": 25,
   "id": "997a0f79",
   "metadata": {},
   "outputs": [
    {
     "name": "stdout",
     "output_type": "stream",
     "text": [
      "True\n"
     ]
    }
   ],
   "source": [
    "print(buah_salak < 5 or buah_pepaya < 28)"
   ]
  },
  {
   "cell_type": "code",
   "execution_count": 27,
   "id": "5ad4026f",
   "metadata": {},
   "outputs": [
    {
     "name": "stdout",
     "output_type": "stream",
     "text": [
      "False\n"
     ]
    }
   ],
   "source": [
    "print(buah_salak < 5 or buah_pepaya >28)"
   ]
  },
  {
   "cell_type": "code",
   "execution_count": 28,
   "id": "6ef64543",
   "metadata": {},
   "outputs": [
    {
     "name": "stdout",
     "output_type": "stream",
     "text": [
      "True\n"
     ]
    }
   ],
   "source": [
    "print(not (buah_salak < 5 or buah_pepaya > 28))"
   ]
  },
  {
   "cell_type": "code",
   "execution_count": 29,
   "id": "a7c30915",
   "metadata": {},
   "outputs": [
    {
     "name": "stdout",
     "output_type": "stream",
     "text": [
      "False\n"
     ]
    }
   ],
   "source": [
    "print(buah_salak <= 15 and buah_pepaya > 25)"
   ]
  },
  {
   "cell_type": "markdown",
   "id": "889232d7",
   "metadata": {},
   "source": [
    "# 5.10 Operator if di Python"
   ]
  },
  {
   "cell_type": "code",
   "execution_count": 30,
   "id": "847e0d14",
   "metadata": {},
   "outputs": [
    {
     "name": "stdout",
     "output_type": "stream",
     "text": [
      "Nilai anda adalah 87\n",
      "Anda mendapatkan nilai A\n",
      "Bagus sekali, selamat!\n"
     ]
    }
   ],
   "source": [
    "nilai = float(input(\"Nilai anda adalah \"))\n",
    "if nilai >= 85:\n",
    "    print(\"Anda mendapatkan nilai A\")\n",
    "    print(\"Bagus sekali, selamat!\")\n",
    "if nilai < 85 and nilai >= 75:\n",
    "    print(\"Anda mendapatkan nilai B\")\n",
    "    print(\"Tingkatkan prestasimu!\")\n",
    "if nilai >= 65 and nilai < 75:\n",
    "    print(\"Anda mendapatkan nilai C\")\n",
    "    print(\"Lain kali harus lebih baik!\")\n",
    "if nilai >= 50 and nilai < 65:\n",
    "    print(\"Anda mendapatkan nilai D\")\n",
    "    print(\"Ulang lagi tahun depan!\")\n",
    "if nilai <50:\n",
    "    print(\"Anda mendapatkan nilai E\")\n",
    "    print(\"Sampai jumpa tahun depan!\")"
   ]
  },
  {
   "cell_type": "markdown",
   "id": "75a8ef0b",
   "metadata": {},
   "source": [
    "# 5.11 While loop"
   ]
  },
  {
   "cell_type": "code",
   "execution_count": 31,
   "id": "6e15c69c",
   "metadata": {},
   "outputs": [
    {
     "name": "stdout",
     "output_type": "stream",
     "text": [
      "Angka 0 masih dibawah 7\n",
      "Angka 1 masih dibawah 7\n",
      "Angka 2 masih dibawah 7\n",
      "Angka 3 masih dibawah 7\n",
      "Angka 4 masih dibawah 7\n",
      "Angka 5 masih dibawah 7\n",
      "Angka 6 masih dibawah 7\n"
     ]
    }
   ],
   "source": [
    "a = 0\n",
    "while a < 7:\n",
    "    print(\"Angka \" + str(a)+\" masih dibawah 7\")\n",
    "    a +=1"
   ]
  },
  {
   "cell_type": "code",
   "execution_count": 32,
   "id": "fa8b21ea",
   "metadata": {},
   "outputs": [
    {
     "name": "stdout",
     "output_type": "stream",
     "text": [
      "\n",
      "*\n",
      "**\n",
      "***\n",
      "****\n",
      "*****\n",
      "******\n"
     ]
    }
   ],
   "source": [
    "a = 0\n",
    "while a < 7:\n",
    "    print(a * '*')\n",
    "    a += 1"
   ]
  },
  {
   "cell_type": "code",
   "execution_count": 33,
   "id": "4b89d817",
   "metadata": {},
   "outputs": [
    {
     "name": "stdout",
     "output_type": "stream",
     "text": [
      "\n",
      "^ \n",
      "^ ^ \n",
      "^ ^ ^ \n",
      "^ ^ ^ ^ \n",
      "^ ^ ^ ^ ^ \n"
     ]
    }
   ],
   "source": [
    "a = 0\n",
    "while a < 6:\n",
    "    print(a * '^ ')\n",
    "    a += 1"
   ]
  }
 ],
 "metadata": {
  "kernelspec": {
   "display_name": "Python 3 (ipykernel)",
   "language": "python",
   "name": "python3"
  },
  "language_info": {
   "codemirror_mode": {
    "name": "ipython",
    "version": 3
   },
   "file_extension": ".py",
   "mimetype": "text/x-python",
   "name": "python",
   "nbconvert_exporter": "python",
   "pygments_lexer": "ipython3",
   "version": "3.9.7"
  }
 },
 "nbformat": 4,
 "nbformat_minor": 5
}
